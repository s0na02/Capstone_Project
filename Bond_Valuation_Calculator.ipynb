{
 "cells": [
  {
   "cell_type": "code",
   "execution_count": 1,
   "id": "53d1a771",
   "metadata": {},
   "outputs": [],
   "source": [
    "import numpy as np\n",
    "import pandas as pd\n",
    "from datetime import datetime\n",
    "from dateutil.relativedelta import relativedelta\n",
    "from scipy import optimize\n",
    "\n",
    "# Change the representation of float format to show the values as they are (Without wrong roundings).\n",
    "pd.set_option('display.float_format', str)\n",
    "\n",
    "class bond_pricer:\n",
    "    \n",
    "    def __init__(self, \n",
    "                 principal_value, \n",
    "                 coupon_rate,\n",
    "                 settlement_date, \n",
    "                 maturity_date,\n",
    "                 coupon_frequency=1,\n",
    "                 convention='30/360',\n",
    "                 yield_to_maturity=None, \n",
    "                 dirty_price=None,\n",
    "                 clean_price=None):\n",
    "        \n",
    "        self.principal_value = principal_value\n",
    "        self.coupon_rate = coupon_rate\n",
    "        self.coupon_frequency = coupon_frequency\n",
    "        self.coupon_amount = self.principal_value * (self.coupon_rate / self.coupon_frequency)\n",
    "        self.settlement_date = datetime.strptime(settlement_date, '%d/%m/%Y').date()\n",
    "        self.maturity_date = datetime.strptime(maturity_date, '%d/%m/%Y').date()\n",
    "        self.convention = convention\n",
    "        self.coupon_months = int(12 / self.coupon_frequency)  \n",
    "        \n",
    "        # Compute cash flow dates\n",
    "        cflow_date = self.maturity_date\n",
    "        cflow_dates = [self.maturity_date]\n",
    "        while cflow_date + relativedelta(months=-self.coupon_months) > self.settlement_date:\n",
    "            cflow_date += relativedelta(months=-self.coupon_months)\n",
    "            cflow_dates.append(cflow_date)        \n",
    "        self.cash_flow_dates = cflow_dates[::-1]\n",
    "        \n",
    "        # Compute accrued interest\n",
    "        self.next_coupon_date = self.cash_flow_dates[0]\n",
    "        self.previous_coupon_date = self.next_coupon_date + relativedelta(months=-self.coupon_months)\n",
    "        if self.convention == 'ACT/ACT':\n",
    "            self.accrued_days = (self.settlement_date - self.previous_coupon_date).days    \n",
    "            self.curr_coupon_days = (self.next_coupon_date - self.previous_coupon_date).days\n",
    "            self.accrual_period = self.accrued_days / self.curr_coupon_days\n",
    "            self.accrued_interest = self.principal_value * (self.coupon_rate / self.coupon_frequency) * self.accrual_period\n",
    "        elif self.convention == '30/360':\n",
    "            d1 = min(30, self.previous_coupon_date.day)\n",
    "            if d1 == 30:\n",
    "                d2 = min(d1, self.settlement_date.day)\n",
    "            else:\n",
    "                d2 = self.settlement_date.day\n",
    "            self.accrued_days = 360 * (self.settlement_date.year - self.previous_coupon_date.year) + 30 * (self.settlement_date.month - self.previous_coupon_date.month) + d2 - d1\n",
    "            self.curr_coupon_days = 360 / self.coupon_frequency\n",
    "            self.accrual_period = self.accrued_days / self.curr_coupon_days\n",
    "            self.accrued_interest = self.principal_value * (self.coupon_rate / self.coupon_frequency) * self.accrual_period\n",
    "        \n",
    "        # Compute cash flow amounts and time to cash flows and maturity\n",
    "        first_tau = (self.curr_coupon_days - self.accrued_days) / self.curr_coupon_days        \n",
    "        cash_flow_amounts = []\n",
    "        taus = []\n",
    "        for i in range(len(self.cash_flow_dates)):\n",
    "            cash_flow_amounts.append(self.coupon_amount)\n",
    "            taus.append((first_tau + i) / self.coupon_frequency)        \n",
    "        cash_flow_amounts[-1] += self.principal_value\n",
    "        self.cash_flows = np.array(cash_flow_amounts)\n",
    "        self.taus = np.array(taus)\n",
    "        self.time_to_maturity = self.taus[-1]\n",
    "        \n",
    "        # Compute clean and dirty prices\n",
    "        if dirty_price:\n",
    "            self.dirty_price = dirty_price\n",
    "            self.clean_price = self.dirty_price - self.accrued_interest\n",
    "        elif clean_price:\n",
    "            self.clean_price = clean_price\n",
    "            self.dirty_price = self.clean_price + self.accrued_interest\n",
    "        elif yield_to_maturity:\n",
    "            self.yield_to_maturity = yield_to_maturity\n",
    "            self.ytm_adjusted = self.coupon_frequency*np.log(1 + self.yield_to_maturity / self.coupon_frequency)\n",
    "            self.discount_factors = np.exp(-self.ytm_adjusted * self.taus)\n",
    "            self.dirty_price = np.sum(self.cash_flows * self.discount_factors)\n",
    "            self.clean_price = self.dirty_price - self.accrued_interest\n",
    "        \n",
    "        # Compute current yield\n",
    "        self.current_yield = (self.coupon_rate * self.principal_value) / self.dirty_price\n",
    "        \n",
    "        # Compute yield to maturity\n",
    "        if yield_to_maturity:\n",
    "            self.yield_to_maturity = yield_to_maturity\n",
    "            self.ytm_adjusted = self.coupon_frequency * np.log(1 + self.yield_to_maturity / self.coupon_frequency)\n",
    "        else:\n",
    "            def get_bond_price(yield_to_maturity, cash_flows, taus):\n",
    "                return np.sum(cash_flows * np.exp(-yield_to_maturity * taus))\n",
    "            \n",
    "            get_ytm = lambda ytm: get_bond_price(ytm, self.cash_flows, self.taus) - self.dirty_price\n",
    "            \n",
    "            self.ytm_adjusted = optimize.newton(get_ytm, 0.04)\n",
    "            self.yield_to_maturity = (np.exp(self.ytm_adjusted / self.coupon_frequency) - 1) * self.coupon_frequency\n",
    "            self.discount_factors = np.exp(-self.ytm_adjusted * self.taus)\n",
    "       \n",
    "        # Compute duration\n",
    "        self.first_derivative = np.sum(-self.taus * self.cash_flows * self.discount_factors)\n",
    "        self.duration_macaulay = -1/self.dirty_price * self.first_derivative\n",
    "        self.duration_modified = self.duration_macaulay / (1 + self.yield_to_maturity / self.coupon_frequency)                                                        \n",
    "        \n",
    "        # Compute convexity\n",
    "        self.second_derivative = np.sum(self.taus**2 * self.cash_flows * self.discount_factors)\n",
    "        self.convexity = 1/self.dirty_price * self.second_derivative\n",
    "        \n",
    "        # Generate summary table\n",
    "        index = ['Dirty price','Clean price', 'Accrued interest', 'Face value', 'Coupon rate', 'Coupon frequency', 'Yield to maturity', \n",
    "                 'Time to maturity', 'Macaulay duration', 'Modified duration', 'Convexity', 'Settlement date', 'Maturity date', 'Convention']\n",
    "        data = list(np.round([self.dirty_price, self.clean_price, self.accrued_interest], 7))\n",
    "        data += list(np.round([self.principal_value, self.coupon_rate, self.coupon_frequency, \n",
    "                self.yield_to_maturity, self.time_to_maturity, self.duration_macaulay, self.duration_modified, self.convexity], 4))\n",
    "        data += [self.settlement_date, self.maturity_date, self.convention]\n",
    "        self.summary = pd.DataFrame(data, index, columns=[''])\n",
    "        \n",
    "    # Approximate new price after delta_ytm change in yield to maturity\n",
    "    def approx_new_price(self, delta_ytm):\n",
    "        return self.dirty_price * (1 + (-self.duration_modified * delta_ytm + 0.5 * self.convexity * delta_ytm**2))\n",
    "    \n",
    "    # Summary of the bond metrics\n",
    "    def print_summary(self):\n",
    "        print(self.summary)"
   ]
  },
  {
   "cell_type": "code",
   "execution_count": 2,
   "id": "ca0c93ab",
   "metadata": {},
   "outputs": [],
   "source": [
    "def get_bond_parameters(bond):\n",
    "    \"\"\" Get the necessary parameters for calculations of one single bond \n",
    "    \n",
    "    Parameters:\n",
    "        bond (pd.Series): Pandas Series object which represents data of the bond.\n",
    "    \n",
    "    Returns:\n",
    "        principal_value (int)\n",
    "        coupon_rate (float): coupon rate divided by 100 as it is in percents\n",
    "        coupon_frequency (int)\n",
    "        settlement_date (str): '%d/%m/%Y'\n",
    "        maturity_date (str): '%d/%m/%Y'\n",
    "        yield_to_maturity (float): yield to maturity divided by 100 as it is in percents\n",
    "        convention (str)\n",
    "    \"\"\"\n",
    "    \n",
    "    principal_value = bond['Principal Value']\n",
    "    \n",
    "    # Coupon rate (%)\n",
    "    coupon_rate = bond['Coupon Rate (%)'] / 100\n",
    "    \n",
    "    coupon_frequency = bond['Coupon Frequency']\n",
    "    \n",
    "    # Change date representation from %Y-%m-%d --> %d/%m/%Y\n",
    "    settlement_date = '/'.join(bond['Settlement Date'].split('-')[::-1]) \n",
    "    maturity_date = '/'.join(bond['Maturity Date'].split('-')[::-1])\n",
    "    \n",
    "    # Yield to maturity (%)\n",
    "    yield_to_maturity = bond['Yield to Maturity (%)'] / 100\n",
    "    \n",
    "    convention = bond['Convention']\n",
    "    \n",
    "    return principal_value, coupon_rate, coupon_frequency, settlement_date, maturity_date, yield_to_maturity, convention\n"
   ]
  },
  {
   "cell_type": "code",
   "execution_count": 3,
   "id": "e37c5964",
   "metadata": {},
   "outputs": [],
   "source": [
    "data = pd.read_csv('cleaned_data')"
   ]
  },
  {
   "cell_type": "code",
   "execution_count": 4,
   "id": "0e299043",
   "metadata": {},
   "outputs": [
    {
     "data": {
      "text/plain": [
       "ISIN                     AMGB1029A235\n",
       "Coupon Rate (%)                  10.0\n",
       "Maturity Date              2023-10-29\n",
       "Dirty Price               104.1177663\n",
       "Yield to Maturity (%)         11.3308\n",
       "Coupon Frequency                    2\n",
       "Principal Value                   100\n",
       "Settlement Date            2023-04-21\n",
       "Convention                    ACT/ACT\n",
       "Name: 0, dtype: object"
      ]
     },
     "execution_count": 4,
     "metadata": {},
     "output_type": "execute_result"
    }
   ],
   "source": [
    "first_bond = data.iloc[0]\n",
    "first_bond"
   ]
  },
  {
   "cell_type": "code",
   "execution_count": 5,
   "id": "c73ecaa8",
   "metadata": {},
   "outputs": [],
   "source": [
    "# Getting the parameters of the first bond in our data\n",
    "principal_value, coupon_rate, coupon_frequency, settlement_date, maturity_date, yield_to_maturity, convention = get_bond_parameters(first_bond)"
   ]
  },
  {
   "cell_type": "code",
   "execution_count": 6,
   "id": "ec901e12",
   "metadata": {},
   "outputs": [
    {
     "name": "stdout",
     "output_type": "stream",
     "text": [
      "Parameters of the first bond:\n",
      "Principal Value: 100\n",
      "Coupon Rate: 0.1\n",
      "Coupon Frequency: 2\n",
      "Settlement Date: 21/04/2023\n",
      "Maturity Date: 29/10/2023\n",
      "Yield to Maturity: 0.113308\n",
      "Convention: ACT/ACT\n"
     ]
    }
   ],
   "source": [
    "print('Parameters of the first bond:')\n",
    "print('Principal Value:', principal_value)\n",
    "print('Coupon Rate:', coupon_rate)\n",
    "print('Coupon Frequency:', coupon_frequency)\n",
    "print('Settlement Date:', settlement_date)\n",
    "print('Maturity Date:', maturity_date)\n",
    "print('Yield to Maturity:', yield_to_maturity)\n",
    "print('Convention:', convention)"
   ]
  },
  {
   "cell_type": "code",
   "execution_count": 7,
   "id": "41aef9bc",
   "metadata": {},
   "outputs": [
    {
     "name": "stdout",
     "output_type": "stream",
     "text": [
      "                             \n",
      "Dirty price       104.1177663\n",
      "Clean price        99.3375465\n",
      "Accrued interest    4.7802198\n",
      "Face value              100.0\n",
      "Coupon rate               0.1\n",
      "Coupon frequency          2.0\n",
      "Yield to maturity      0.1133\n",
      "Time to maturity        0.522\n",
      "Macaulay duration       0.498\n",
      "Modified duration      0.4713\n",
      "Convexity              0.2594\n",
      "Settlement date    2023-04-21\n",
      "Maturity date      2023-10-29\n",
      "Convention            ACT/ACT\n"
     ]
    }
   ],
   "source": [
    "# Instantiate bond\n",
    "bond = bond_pricer(principal_value=principal_value, coupon_rate=coupon_rate, coupon_frequency=coupon_frequency, \n",
    "                settlement_date=settlement_date, maturity_date=maturity_date, \n",
    "                yield_to_maturity=yield_to_maturity, convention=convention)\n",
    "\n",
    "# Print bond metrics\n",
    "bond.print_summary()"
   ]
  },
  {
   "cell_type": "code",
   "execution_count": 8,
   "id": "e7743cab",
   "metadata": {},
   "outputs": [
    {
     "data": {
      "text/html": [
       "<div>\n",
       "<style scoped>\n",
       "    .dataframe tbody tr th:only-of-type {\n",
       "        vertical-align: middle;\n",
       "    }\n",
       "\n",
       "    .dataframe tbody tr th {\n",
       "        vertical-align: top;\n",
       "    }\n",
       "\n",
       "    .dataframe thead th {\n",
       "        text-align: right;\n",
       "    }\n",
       "</style>\n",
       "<table border=\"1\" class=\"dataframe\">\n",
       "  <thead>\n",
       "    <tr style=\"text-align: right;\">\n",
       "      <th></th>\n",
       "      <th>ISIN</th>\n",
       "      <th>Coupon Rate (%)</th>\n",
       "      <th>Maturity Date</th>\n",
       "      <th>Dirty Price</th>\n",
       "      <th>Yield to Maturity (%)</th>\n",
       "      <th>Coupon Frequency</th>\n",
       "      <th>Principal Value</th>\n",
       "      <th>Settlement Date</th>\n",
       "      <th>Convention</th>\n",
       "    </tr>\n",
       "  </thead>\n",
       "  <tbody>\n",
       "    <tr>\n",
       "      <th>21</th>\n",
       "      <td>AMEUBDB22ER6</td>\n",
       "      <td>7.15</td>\n",
       "      <td>2025-03-26</td>\n",
       "      <td>39455.4724406</td>\n",
       "      <td>6.364</td>\n",
       "      <td>2</td>\n",
       "      <td>100</td>\n",
       "      <td>2023-04-21</td>\n",
       "      <td>30/360</td>\n",
       "    </tr>\n",
       "    <tr>\n",
       "      <th>22</th>\n",
       "      <td>XS2010043904</td>\n",
       "      <td>3.95</td>\n",
       "      <td>2029-09-26</td>\n",
       "      <td>32050.2139503</td>\n",
       "      <td>7.421</td>\n",
       "      <td>2</td>\n",
       "      <td>100</td>\n",
       "      <td>2023-04-21</td>\n",
       "      <td>30/360</td>\n",
       "    </tr>\n",
       "    <tr>\n",
       "      <th>23</th>\n",
       "      <td>XS2010028939</td>\n",
       "      <td>3.6</td>\n",
       "      <td>2031-02-02</td>\n",
       "      <td>30717.0158063</td>\n",
       "      <td>7.257</td>\n",
       "      <td>2</td>\n",
       "      <td>100</td>\n",
       "      <td>2023-04-21</td>\n",
       "      <td>30/360</td>\n",
       "    </tr>\n",
       "  </tbody>\n",
       "</table>\n",
       "</div>"
      ],
      "text/plain": [
       "            ISIN  Coupon Rate (%) Maturity Date   Dirty Price  \\\n",
       "21  AMEUBDB22ER6             7.15    2025-03-26 39455.4724406   \n",
       "22  XS2010043904             3.95    2029-09-26 32050.2139503   \n",
       "23  XS2010028939              3.6    2031-02-02 30717.0158063   \n",
       "\n",
       "    Yield to Maturity (%)  Coupon Frequency  Principal Value Settlement Date  \\\n",
       "21                  6.364                 2              100      2023-04-21   \n",
       "22                  7.421                 2              100      2023-04-21   \n",
       "23                  7.257                 2              100      2023-04-21   \n",
       "\n",
       "   Convention  \n",
       "21     30/360  \n",
       "22     30/360  \n",
       "23     30/360  "
      ]
     },
     "execution_count": 8,
     "metadata": {},
     "output_type": "execute_result"
    }
   ],
   "source": [
    "data[data['Convention'] == '30/360']"
   ]
  },
  {
   "cell_type": "code",
   "execution_count": 9,
   "id": "fd10261f",
   "metadata": {},
   "outputs": [],
   "source": [
    "new_bond = data.iloc[23]"
   ]
  },
  {
   "cell_type": "code",
   "execution_count": 10,
   "id": "0b2a5553",
   "metadata": {},
   "outputs": [
    {
     "data": {
      "text/plain": [
       "ISIN                     XS2010028939\n",
       "Coupon Rate (%)                   3.6\n",
       "Maturity Date              2031-02-02\n",
       "Dirty Price             30717.0158063\n",
       "Yield to Maturity (%)           7.257\n",
       "Coupon Frequency                    2\n",
       "Principal Value                   100\n",
       "Settlement Date            2023-04-21\n",
       "Convention                     30/360\n",
       "Name: 23, dtype: object"
      ]
     },
     "execution_count": 10,
     "metadata": {},
     "output_type": "execute_result"
    }
   ],
   "source": [
    "new_bond"
   ]
  },
  {
   "cell_type": "code",
   "execution_count": 11,
   "id": "c0d08225",
   "metadata": {},
   "outputs": [],
   "source": [
    "# Getting the parameters of the first bond in our data\n",
    "principal_value, coupon_rate, coupon_frequency, settlement_date, maturity_date, yield_to_maturity, convention = get_bond_parameters(new_bond)"
   ]
  },
  {
   "cell_type": "code",
   "execution_count": 12,
   "id": "67200499",
   "metadata": {},
   "outputs": [
    {
     "name": "stdout",
     "output_type": "stream",
     "text": [
      "Parameters of the new bond:\n",
      "Principal Value: 100\n",
      "Coupon Rate: 0.036000000000000004\n",
      "Coupon Frequency: 2\n",
      "Settlement Date: 21/04/2023\n",
      "Maturity Date: 02/02/2031\n",
      "Yield to Maturity: 0.07257\n",
      "Convention: 30/360\n"
     ]
    }
   ],
   "source": [
    "print('Parameters of the new bond:')\n",
    "print('Principal Value:', principal_value)\n",
    "print('Coupon Rate:', coupon_rate)\n",
    "print('Coupon Frequency:', coupon_frequency)\n",
    "print('Settlement Date:', settlement_date)\n",
    "print('Maturity Date:', maturity_date)\n",
    "print('Yield to Maturity:', yield_to_maturity)\n",
    "print('Convention:', convention)"
   ]
  },
  {
   "cell_type": "code",
   "execution_count": 13,
   "id": "e1c3d6e9",
   "metadata": {},
   "outputs": [
    {
     "name": "stdout",
     "output_type": "stream",
     "text": [
      "                             \n",
      "Dirty price        79.3290871\n",
      "Clean price        78.5390871\n",
      "Accrued interest         0.79\n",
      "Face value              100.0\n",
      "Coupon rate             0.036\n",
      "Coupon frequency          2.0\n",
      "Yield to maturity      0.0726\n",
      "Time to maturity       7.7806\n",
      "Macaulay duration      6.6413\n",
      "Modified duration      6.4087\n",
      "Convexity             48.9532\n",
      "Settlement date    2023-04-21\n",
      "Maturity date      2031-02-02\n",
      "Convention             30/360\n"
     ]
    }
   ],
   "source": [
    "# Check our bond_pricer on '30/360' convention bond \n",
    "\n",
    "# Instantiate bond\n",
    "bond = bond_pricer(principal_value=principal_value, coupon_rate=coupon_rate, coupon_frequency=coupon_frequency, \n",
    "                settlement_date=settlement_date, maturity_date=maturity_date, \n",
    "                yield_to_maturity=yield_to_maturity, convention=convention)\n",
    "\n",
    "# Print bond metrics\n",
    "bond.print_summary()"
   ]
  }
 ],
 "metadata": {
  "kernelspec": {
   "display_name": "Python 3 (ipykernel)",
   "language": "python",
   "name": "python3"
  },
  "language_info": {
   "codemirror_mode": {
    "name": "ipython",
    "version": 3
   },
   "file_extension": ".py",
   "mimetype": "text/x-python",
   "name": "python",
   "nbconvert_exporter": "python",
   "pygments_lexer": "ipython3",
   "version": "3.9.13"
  }
 },
 "nbformat": 4,
 "nbformat_minor": 5
}
