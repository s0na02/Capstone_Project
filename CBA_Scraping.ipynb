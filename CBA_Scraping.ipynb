{
 "cells": [
  {
   "cell_type": "code",
   "execution_count": 11,
   "id": "f7b88c05",
   "metadata": {},
   "outputs": [],
   "source": [
    "from urllib.request import urlretrieve\n",
    "import pandas as pd\n",
    "import numpy as np"
   ]
  },
  {
   "cell_type": "code",
   "execution_count": 21,
   "id": "1a9212d1",
   "metadata": {},
   "outputs": [],
   "source": [
    "# URL is not valid anymore\n",
    "urlretrieve('https://www.cba.am/Storage/AM/downloads/gorc/YC.xlsx', 'capstone_data')\n",
    "data = pd.read_excel('capstone_data', skiprows=[0,2,3,4])\n",
    "data = data.iloc[:,10:15]\n",
    "data.dropna(axis=0, how='all', inplace=True)\n",
    "data.dropna(axis=1, how='all', inplace=True)\n",
    "data.columns = ['ISIN','Coupon Rate (%)','Maturity Date','Dirty Price', 'Yield to Maturity (%)']"
   ]
  },
  {
   "cell_type": "code",
   "execution_count": 16,
   "id": "beb4965b",
   "metadata": {},
   "outputs": [],
   "source": [
    "data.insert(5, \"Coupon Frequency\", 2)\n",
    "data.insert(6, \"Principal Value\", 100)"
   ]
  },
  {
   "cell_type": "code",
   "execution_count": 17,
   "id": "1e8629c1",
   "metadata": {},
   "outputs": [],
   "source": [
    "dateSelect = \"2023-04-21\"\n",
    "data['Settlement Date'] = dateSelect "
   ]
  },
  {
   "cell_type": "code",
   "execution_count": null,
   "id": "cf14bd6d",
   "metadata": {},
   "outputs": [],
   "source": [
    "data.loc[0:20,'Convention'] = 'ACT/ACT'\n",
    "data.loc[21:32,'Convention'] = 'ACT/360'\n",
    "data.loc[33:35,'Convention'] = '30/360'\n",
    "data.loc[36:,'Convention'] = 'ACT/ACT'\n",
    "data"
   ]
  },
  {
   "cell_type": "code",
   "execution_count": null,
   "id": "d3fc5178",
   "metadata": {},
   "outputs": [],
   "source": [
    "df=data.drop(data.index[21:33])"
   ]
  },
  {
   "cell_type": "code",
   "execution_count": 18,
   "id": "4dc95428",
   "metadata": {},
   "outputs": [],
   "source": [
    "df.index = np.arange(1, len(df) + 1)\n",
    "df"
   ]
  },
  {
   "cell_type": "code",
   "execution_count": 5,
   "id": "c233545b",
   "metadata": {},
   "outputs": [],
   "source": [
    "def save(data, filename):\n",
    "    \"\"\" Save cleaned data in csv format\n",
    "    \n",
    "    Parameters: \n",
    "        data (pd.Dataframe): contains data about bonds.\n",
    "        filename (str): Name of the file with data.\n",
    "    \n",
    "    Returns:\n",
    "        None\n",
    "    \"\"\"\n",
    "    \n",
    "    # Save the data\n",
    "    data.to_csv(filename, index=False)\n",
    "    "
   ]
  },
  {
   "cell_type": "code",
   "execution_count": 19,
   "id": "be90d98c",
   "metadata": {},
   "outputs": [],
   "source": [
    "save(df, 'cleaned_data')"
   ]
  }
 ],
 "metadata": {
  "kernelspec": {
   "display_name": "Python 3 (ipykernel)",
   "language": "python",
   "name": "python3"
  },
  "language_info": {
   "codemirror_mode": {
    "name": "ipython",
    "version": 3
   },
   "file_extension": ".py",
   "mimetype": "text/x-python",
   "name": "python",
   "nbconvert_exporter": "python",
   "pygments_lexer": "ipython3",
   "version": "3.9.13"
  }
 },
 "nbformat": 4,
 "nbformat_minor": 5
}
